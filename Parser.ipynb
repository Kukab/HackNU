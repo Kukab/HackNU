{
 "cells": [
  {
   "cell_type": "code",
   "execution_count": 2,
   "metadata": {},
   "outputs": [
    {
     "data": {
      "text/html": [
       "<div>\n",
       "<style scoped>\n",
       "    .dataframe tbody tr th:only-of-type {\n",
       "        vertical-align: middle;\n",
       "    }\n",
       "\n",
       "    .dataframe tbody tr th {\n",
       "        vertical-align: top;\n",
       "    }\n",
       "\n",
       "    .dataframe thead th {\n",
       "        text-align: right;\n",
       "    }\n",
       "</style>\n",
       "<table border=\"1\" class=\"dataframe\">\n",
       "  <thead>\n",
       "    <tr style=\"text-align: right;\">\n",
       "      <th></th>\n",
       "      <th>id</th>\n",
       "      <th>content</th>\n",
       "    </tr>\n",
       "  </thead>\n",
       "  <tbody>\n",
       "    <tr>\n",
       "      <th>0</th>\n",
       "      <td>151908</td>\n",
       "      <td>The son of a Louisiana man whose father was sh...</td>\n",
       "    </tr>\n",
       "    <tr>\n",
       "      <th>1</th>\n",
       "      <td>151909</td>\n",
       "      <td>Copies of William Shakespeare’s first four boo...</td>\n",
       "    </tr>\n",
       "    <tr>\n",
       "      <th>2</th>\n",
       "      <td>151910</td>\n",
       "      <td>Debt: $20, 000, Source: College, credit cards,...</td>\n",
       "    </tr>\n",
       "    <tr>\n",
       "      <th>3</th>\n",
       "      <td>151911</td>\n",
       "      <td>It was late. I was drunk, nearing my 35th birt...</td>\n",
       "    </tr>\n",
       "    <tr>\n",
       "      <th>4</th>\n",
       "      <td>151912</td>\n",
       "      <td>A central Texas man serving a life sentence fo...</td>\n",
       "    </tr>\n",
       "  </tbody>\n",
       "</table>\n",
       "</div>"
      ],
      "text/plain": [
       "       id                                            content\n",
       "0  151908  The son of a Louisiana man whose father was sh...\n",
       "1  151909  Copies of William Shakespeare’s first four boo...\n",
       "2  151910  Debt: $20, 000, Source: College, credit cards,...\n",
       "3  151911  It was late. I was drunk, nearing my 35th birt...\n",
       "4  151912  A central Texas man serving a life sentence fo..."
      ]
     },
     "execution_count": 2,
     "metadata": {},
     "output_type": "execute_result"
    }
   ],
   "source": [
    "import pandas as pd \n",
    "col_list = [\"id\", \"content\"]\n",
    "data = pd.read_csv(\"articles3.csv\", usecols=col_list) \n",
    "\n",
    "data.head()"
   ]
  },
  {
   "cell_type": "code",
   "execution_count": 16,
   "metadata": {
    "collapsed": true
   },
   "outputs": [
    {
     "data": {
      "text/plain": [
       "'Patriots Day, Peter Berg’s new thriller that recreates the 2013 Boston Marathon bombing and the ensuing manhunt that followed it, is a surprisingly oblique, morally ambiguous movie from a typically straightforward filmmaker. Patriots Day takes an unexpectedly cynical view of the chaos, rash   and bureaucratic infighting that followed the bombing —  the question is whether that was Berg’s intended message. For its grim   running time, the movie celebrates the men on the ground who helped bring the bombers to justice, but it’s the glimpses of something more complicated than jingoism that really linger. The scene that best illustrates this dichotomy comes late in Patriots Day. As the search for one of the bombers, Dzhokhar Tsarnaev, intensifies, his brother’s wife Katherine (Melissa Benoist) is brought in for interrogation on her connections to the case. As she asks for a lawyer, protesting that she “has rights,” her steely interviewer (Khandi Alexander) tuts, “Honey, you ain’t got shit. ” It’s a Hollywood line intended to provoke a big cheer from the audience, despite its queasy legal undertones. But the film presents it as just that —  a cheesy line. The questioning goes nowhere, and the interrogator exits with a shrug as the movie notes in its   Katherine was never charged with any crime. Patriots Day is filled with this kind of bluster, but the film’s most compelling moments serve to undercut it. Deepwater Horizon Stays Too Close to the Surface, Working against those more interesting themes is the man at the center of the movie, Boston Police Sergeant Tommy Saunders, a fictional character invented to serve as the audience’s eyes and ears at every major turning point of the attacks. He’s played by Mark Wahlberg, the polestar of Berg’s new genre of   storytelling who has played the mouthy heroes at the center of Lone Survivor (2013) Deepwater Horizon (2016) and now Patriots Day. Unlike those other films, Wahlberg’s character in Patriots Day didn’t really exist, and he often comes across as a bundle of screenwriting clichés. He’s nursing a bum knee and was recently demoted due to insubordination, but somehow is on   terms with every cop, uniformed or otherwise, in the city. When the film is focused on Saunders, as it mostly is, it feels like a straight recreation of a traumatic event that occurred less than four years ago. Berg largely does well to avoid sensationalizing the 2013 bombing, which killed 3 and wounded 264 others, and the subsequent manhunt that claimed the life of a police officer. At no point does Patriots Day feel like a glitzy action movie or a gory piece of horror. The violence of that day is not lingered on, outside of an effort to make its victims feel like real people by depicting snippets of their lives beforehand. Wahlberg, for his part, can’t help but make Saunders feel like a bit of a stereotype he’s a     movie cop in a film that’s otherwise seeking nuance. Saunders, it seems, is supposed to stand in for the generally lovable, belligerent Boston spirit that prevailed in the days after the marathon, and Berg drills that point home far too many times. There are bits that work —  in the immediate aftermath of the bombs, Wahlberg successfully communicates how angry and shaken Saunders is, rather than switching into    hero mode. He does a decent job selling the trauma, but once his hefty attitude returns, Patriots Day snaps back to severe unreality. That’s too bad, since the film is most fascinating when it faithfully conveys the confusion of the days after the bombing, and the   of differing opinions and clashing egos. The FBI, led by    agent Richard DesLauriers (Kevin Bacon) takes over the case, recreating the blocks attacked with   bombs inside a gigantic warehouse and combing through surveillance videos for clues. Boston Police Commissioner Ed Davis (John Goodman) Massachusetts Governor Deval Patrick (Michael Beach) and Boston Mayor Thomas Menino (Vincent Curatola) gather there to offer their own guidance on the case. Saunders is present too, for some reason, mostly providing expertise on the businesses around Boylston Street. The thorny, mucky,   debates that played out during the manhunt are the best parts of the film. Berg accurately shows DesLauriers agonizing over whether to release the pictures of the Tsarnaev brothers gleaned from surveillance cameras before he’s fully substantiated that they’re the bombers his hand is eventually forced by a leak to the media. That sets into action the series of events that led to a deadly shootout with the Tsarnaev brothers in Watertown (J. K. Simmons plays a police sergeant there). Berg is wise to delve into the utter chaos of that manhunt, which included a brief, informal declaration of martial law and a bizarre, bloody standoff with the brothers that saw them lobbing pipe bombs at cop cars. It’s bedlam, in other words —  total disorder and madness, the kind of violence and fear that terrorism is intended to provoke, even from those trying to stop it. The Boston PD’s efforts to capture the Tsarnaev brothers is justly depicted as heroic, but it’s the crazed   the random chains of events, and the empty, angry posturing that stick out as most worthy of analysis. If Berg had dug deeper, he could have had a great film on his hands as it stands, he’s delivered a rote, but occasionally   misfire.'"
      ]
     },
     "execution_count": 16,
     "metadata": {},
     "output_type": "execute_result"
    }
   ],
   "source": [
    "data['content'][0]"
   ]
  },
  {
   "cell_type": "code",
   "execution_count": 3,
   "metadata": {
    "collapsed": true
   },
   "outputs": [
    {
     "data": {
      "text/plain": [
       "[' One in nearly 4. 8 million. That’s how many fraudulent votes North Carolina’s voter ID law would have stopped in the 2016 election had it not been halted by the US Fourth Circuit Court of Appeals, based on a recent audit from the State Board of Elections. After all this time, the court battles, and the protests that the law would disproportionately hurt minority voters, it turns out the push for voter ID was all to stop just one potentially fraudulent vote out of 4, 769, 640 cast last November.    North Carolina’s voter ID law imposed strict voter ID standards, as well as restricted the amount of early voting days, to stop   voter impersonation. A judge halted most of the law last year after concluding that it “target[ed]   with almost surgical precision. ” The audit’s findings expose the lie behind voter ID laws: Republican lawmakers say (in public) that their voter ID laws are meant to stop voter fraud, but actual voter fraud is vanishingly rare. Instead, these laws are seemingly geared  —   by some Republicans’ admission, in fact  —   toward making it harder for minority and Democratic voters to cast a ballot. The state audit found voter fraud is extremely rare The state audit looked at faulty votes on Election Day 2016. In total, it found that 508 ineligible votes were cast.    That’s an alarming number. But the individual circumstances suggest these ineligible votes were less about malicious election rigging and more about people voting when they didn’t know they weren’t supposed to.     About 441 of 508 ineligible votes were reportedly cast by felons who are supposed to be legally barred from voting  —   and it’s believed that these people just didn’t know they’re not allowed to vote under North Carolina law while on probation. Another 41 were cast by noncitizens with legal status in the US  —   some of whom likely believed, incorrectly, that they were allowed to vote. As the Charlotte Observer noted, “[T]he primary cause appears to be a lack of understanding about the law. ”    Another 24 ballots involved double voting. One was voter impersonation by mail. Just one was   voter impersonation  —   by a woman who impersonated her dead mother, reportedly to honor her mom’s final request to vote for Donald Trump. And there were no reported, credible cases of unauthorized immigrants voting. To be sure, it would be nice if there weren’t any ineligible votes.  Ultimately, however, these votes weren’t a big part of the overall election results: The 508 ineligible votes made up just 0. 01 percent of all votes cast in the election. The 26 votes that didn’t involve felons or noncitizens made up 0. 0005 percent of all votes. And the one   voter impersonation case made up 0. 00002 percent of all votes.     This is not going to swing almost any election. Donald Trump beat Hillary Clinton in the state by 3. 6 percent. Even in the unusually close governor’s race, Democrat Roy Cooper beat Pat McCrory by about 0. 1 percent, or nearly 10 times the number of all ineligible votes cast. The state audit isn’t the first to produce these kinds of findings. Loyola Law School professor Justin Levitt tracked credible allegations of   voter impersonation across the US for years. He found just 35 total credible allegations between 2000 and 2014, when more than 800 million ballots were cast in national general elections and hundreds of millions more were cast in primary, municipal, special, and other elections. In short,   voter fraud is extremely rare. North Carolina’s voter ID law had another, malicious purpose If voter fraud is so rare, why did some Republicans push a voter ID law through  —   even defending it through waves of court battles and protests? One explanation is voter ID laws and other voting restrictions disproportionately hurt minority voters who are more likely to vote Democrat. This is why a judge struck down North Carolina’s voter ID law last year. Due to socioeconomic disparities, voting restrictions disproportionately impact minority voters. For example, since minority Americans are less likely to have flexible work hours or own cars, they might have a harder time affording a voter ID or getting to the right place (typically a DMV or BMV office) to obtain a voter ID, rely more on early voting opportunities to cast a ballot, or require a nearby voting place instead of one that’s a drive, instead of a walk, away from home or work.    Indeed, some Republicans have admitted this is the goal of voting restrictions. Just read what one longtime Republican consultant in North Carolina told William Wan at the Washington Post:  Longtime Republican consultant Carter Wrenn, a fixture in North Carolina politics, said the GOP’s voter fraud argument is nothing more than an excuse. “Of course it’s political. Why else would you do it?” he said, explaining that Republicans, like any political party, want to protect their majority. While GOP lawmakers might have passed the law to suppress some voters, Wrenn said, that does not mean it was racist. “Look, if African Americans voted overwhelmingly Republican, they would have kept early voting right where it was,” Wrenn said. “It wasn’t about discriminating against African Americans. They just ended up in the middle of it because they vote Democrat. ”  In other words, this really was about stopping minority voters from voting, because they’re more likely to vote Democrat. Indeed, during the election last year, the state GOP sent out a statement celebrating that black voter turnout was down because it showed the “North Carolina Obama coalition” was “crumbling. ” The good news is the research shows that the Republican attempts to make voting harder, from limits on early voting to voter ID requirements, have little to no effect on elections  —   typically only depressing turnout by a percentage point or two at most. Still, when we’re talking about Americans’ most basic democratic right, any attempt to restrict it for political gain is deplorable  —   especially when such efforts are blatantly racially motivated. ']"
      ]
     },
     "execution_count": 3,
     "metadata": {},
     "output_type": "execute_result"
    }
   ],
   "source": [
    "list(data['content'].loc[data['id'] == 198348])"
   ]
  },
  {
   "cell_type": "code",
   "execution_count": 1,
   "metadata": {},
   "outputs": [],
   "source": [
    "# import re\n",
    "# j=0\n",
    "# for i in range(0, len(data)):\n",
    "#     #print(re.findall(r\"[-+]?\\d*\\.\\d+|\\d+\", data['content'][i]))\n",
    "#     l = re.findall(r\"[-+]?\\d*\\.\\d+\", data['content'][i])\n",
    "#     if l:\n",
    "#         j+=1\n",
    "    \n",
    "# print(j)"
   ]
  },
  {
   "cell_type": "code",
   "execution_count": 3,
   "metadata": {},
   "outputs": [],
   "source": [
    "import nltk\n",
    "import re\n",
    "import numpy\n",
    "import json\n",
    "from nltk.corpus import stopwords\n",
    "from nltk.tokenize import word_tokenize\n",
    "from nltk.corpus import wordnet\n",
    "from nltk.stem import WordNetLemmatizer\n",
    "#nltk.download('stopwords')\n"
   ]
  },
  {
   "cell_type": "code",
   "execution_count": 4,
   "metadata": {},
   "outputs": [],
   "source": [
    "def get_pos(treebank_tag):\n",
    "\n",
    "    if treebank_tag.startswith('J'):\n",
    "        return wordnet.ADJ\n",
    "    elif treebank_tag.startswith('V'):\n",
    "        return wordnet.VERB\n",
    "    elif treebank_tag.startswith('N'):\n",
    "        return wordnet.NOUN\n",
    "    elif treebank_tag.startswith('R'):\n",
    "        return wordnet.ADV\n",
    "    else:\n",
    "        return wordnet.NOUN"
   ]
  },
  {
   "cell_type": "code",
   "execution_count": 13,
   "metadata": {
    "collapsed": true
   },
   "outputs": [
    {
     "name": "stdout",
     "output_type": "stream",
     "text": [
      "0\n",
      "1000\n",
      "2000\n",
      "3000\n",
      "4000\n",
      "5000\n",
      "6000\n",
      "7000\n",
      "8000\n",
      "9000\n",
      "10000\n",
      "11000\n",
      "12000\n",
      "13000\n",
      "14000\n",
      "15000\n",
      "16000\n",
      "17000\n",
      "18000\n",
      "19000\n",
      "20000\n",
      "21000\n",
      "22000\n",
      "23000\n",
      "24000\n",
      "25000\n",
      "26000\n",
      "27000\n",
      "28000\n",
      "29000\n",
      "30000\n",
      "31000\n",
      "32000\n",
      "33000\n",
      "34000\n",
      "35000\n",
      "36000\n",
      "37000\n",
      "38000\n",
      "39000\n",
      "40000\n",
      "41000\n",
      "42000\n"
     ]
    }
   ],
   "source": [
    "dict_wac = {}\n",
    "lemmatizer = WordNetLemmatizer() \n",
    "data_s = len(data)\n",
    "\n",
    "stop_words = set(stopwords.words('english')) \n",
    "\n",
    "\n",
    "f = open(\"a3.json\", \"a\")\n",
    "f2 = open(\"a3.csv\", \"a\")\n",
    "f.write(\"[\")\n",
    "prepr_words = \"\"\n",
    "\n",
    "#k - attribute index\n",
    "for k in range(0, data_s):\n",
    "    text = data['content'][k]\n",
    "    pre_t = text.lower()\n",
    "    pre_t = re.sub('[^A-Za-z0-9]+', ' ', pre_t)\n",
    "\n",
    "    word_tokens = word_tokenize(pre_t)  \n",
    "    word_tags = nltk.pos_tag(word_tokens)\n",
    "    word_tags_size = len(word_tags)\n",
    "    count = {}\n",
    "\n",
    "    #print(k, word_tags_size,\"\\n\\n\")\n",
    "    \n",
    "    #i - tokenized word index with POS\n",
    "    pos = []\n",
    "    no_sw_list = []\n",
    "        \n",
    "    for i in range(0, word_tags_size):\n",
    "        if word_tags[i][0] not in stop_words:\n",
    "            word = lemmatizer.lemmatize(word_tags[i][0], get_pos(word_tags[i][1]))\n",
    "            no_sw_list.append(word)\n",
    "    \n",
    "    \n",
    "\n",
    "    \n",
    "    no_sw_list_size = len(no_sw_list)\n",
    "    \n",
    "    # for every word in list without stop words\n",
    "    for i in range(0, no_sw_list_size):\n",
    "\n",
    "        word = no_sw_list[i]\n",
    "\n",
    "        f2.write(word)\n",
    "        f2.write(\",\")\n",
    "        # next word exists\n",
    "        if i<no_sw_list_size-1:\n",
    "            if word in count:\n",
    "                count[word][0] += 1\n",
    "                count[word][1].append(i)\n",
    "                if no_sw_list[i+1] in count[word][2]:\n",
    "                    count[word][2][no_sw_list[i+1]] +=1\n",
    "\n",
    "                else:\n",
    "                    count[word][2][no_sw_list[i+1]] = 1\n",
    "\n",
    "            else:\n",
    "                count[word] = [1, [i], {no_sw_list[i+1]:1}]\n",
    "\n",
    "        # no next word        \n",
    "        else:\n",
    "            if word in count:\n",
    "                count[word][0] += 1\n",
    "                count[word][1].append(i)\n",
    "\n",
    "            else:\n",
    "                count[word] = [1, [i], {}]\n",
    "\n",
    "    f2.write(\"\\n\")    \n",
    "        \n",
    "        \n",
    "            \n",
    "        \n",
    "    for key, value in count.items():\n",
    "        \n",
    "        temp_list_keys = []\n",
    "        temp_list_vals = []\n",
    "        nw_dict = dict(sorted(count[key][2].items(), key=lambda item: item[1], reverse=True))\n",
    "        \n",
    "        for key2, value2 in nw_dict.items():\n",
    "            temp_list_keys.append(key2)\n",
    "            temp_list_vals.append(value2)\n",
    "            \n",
    "            \n",
    "        if not key in dict_wac:\n",
    "            dict_wac[key] = []\n",
    "        \n",
    "\n",
    "        #dict_wac[key].append([data['id'][k],value[0], value[1],count[key][2]])\n",
    "        data_set = {\"word\": key, \"article_id\": data['id'][k].item(), \"word_count\":value[0], \"word_poss\": value[1], \"nw_key\":temp_list_keys, \"nw_value\":temp_list_vals}\n",
    "\n",
    "        f.write(json.dumps(data_set))\n",
    "        f.write(\",\")\n",
    "        #print(data_set)\n",
    "    if k%1000==0:\n",
    "        print(k)\n",
    "f.write(\"]\")\n",
    "f.close()\n",
    "f2.close()"
   ]
  },
  {
   "cell_type": "code",
   "execution_count": 18,
   "metadata": {
    "collapsed": true
   },
   "outputs": [
    {
     "data": {
      "text/plain": [
       "['In Norse mythology, humans and our world were created by a pantheon of gods who lived in the realm of Asgard. As it turns out, these stories have a grain of truth to them. Thanks to a team of scientists led by Thijs Ettema, Asgard is now also the name of a large clan of microbes. Its members, which are named after Norse gods like Odin, Thor, Loki, and Heimdall, are found all over the world. Many of them are rare and no one has actually seen them under a microscope. But thanks to their DNA, we know they exist. And we know that they are singularly important to us, because they may well be the group from which we evolved. If Ettema is right, then around two billion years ago, an Asgardian microbe (or an incredibly close relative) took part in a unique event that gave rise to the eukaryotes. That’s the group which includes humans, our fellow animals, plants, fungi, and every living thing made from large, complex cells —  all the living things we’re most familiar with, and all the ones we can actually see. Our origins lie either in Asgard, or next door to it.   To understand this story, we have to go back to the very beginning. The Earth was created around 4. 5 billion years ago, and judging by some astonishingly ancient fossils, life emerged relatively soon after. For the longest time, living things belonged to two great domains: the bacteria and the archaea, both microscopic and both comprising single cells. That was the status quo for at least 1. 7 billion years, until the two domains were joined by a third: the eukaryotes. And they were very different. Eukaryotic cells are generally much bigger than either bacteria or archaea. They also have larger genomes. They have internal compartments that act like our organs, each with its own special job. They have an internal skeleton that acts as a transport network for molecules. There’s this huge gulf of complexity that separates them from the other two domains. It’s a gulf that has only ever been crossed once in life’s history. Bacteria and archaea are capable of amazing feats of evolution, but in over 3. 7 billion years of existence, none of them have ever evolved into anything approaching a   cell —  except that one time. Why?   One possible answer, which I’ve written about before, says that eukaryotes were created through an incredibly unlikely merger between members of the other two domains. Somehow, a bacterium found its way inside an archaeon and, rather than being digested or destroyed, became a permanent part of its host. In doing so, it provided the archaeon with an extra source of energy, which allowed it to get bigger, accumulate more genes, and evolve down new paths that were previously inaccessible to it. That fusion cell gave rise to the eukaryotes, and the bacterium eventually turned into the mitochondria —  little   structures that still power eukaryotic cells to this day. Once the eukaryotes evolved, they repeatedly engulf microbes and fused with them —  a process called endosymbiosis. But that’s much easier to do when the host cell is already big, and can engulf smaller neighbors. If the host is an archaeon, the feat becomes much harder and far more improbable. That’s maybe why the merger between an archaeon and a bacterium —  the one that gave rise to mitochondria and may have spawned the eukaryotes —  has only happened once. What were those two ancient partners like? We know that the bacterium belonged to a group called the alphaproteobacteria (which also includes Wolbachia, a microbe that I’ve repeatedly written about here.) But until recently, no one knew anything about the archaeon host.   Ettema changed that in 2015. His team at Uppsala University collected samples of sediment from Loki’s Castle —  a field of hydrothermal vents that lie between Greenland and Norway, at depths of 2, 300 meters. By analyzing the DNA within their sample, the team identified a new archaeon that they called Lokiarchaeota (     ). Their DNA revealed that they are the closest living relatives of all eukaryotes. They’re the best approximations that we have for that ancestral archaeon that gave rise to us all. Loki isn’t alone. Last year, another group led by Brett Baker at the University of Texas in Austin discovered a related group of archaea in the mud of North Carolina’s White Oak River continuing the theme, they called it Thorarchaeota. Now, by teaming up, Ettema, Baker, and others have found even more relatives in sites around the world: Yellowstone National Park, a hot spring in New Zealand,   vents lying near a Japanese island, and many more. “This work is fantastic: going out to the sediments of the planet and digging up the weird and wonderful bugs that live there,” says James McInerney from the University of Manchester. These microbes fall into four major groups: Lokiarchaeota, Thorarchaeota, Odinarchaeota, and Heimdallarchaeota. “There’s around 50 more Asgardian gods, we’re good to go for the next few years,” says Ettema. These four lineages all belong to an overarching supergroup that the team have called Asgard. And we eukaryotes either sit within the Asgardian family tree, or just outside it. We descend directly from either members of the group (perhaps within the Heimdall branch) or from incredibly close relatives. The genomes of the Asgardian microbes hold many surprises. When Ettema looked at their DNA, he was surprised to find genes that are supposedly unique to eukaryotes. Some are for building and remodeling internal skeletons, which archaea don’t have. Others are involved in pinching off bits of the outer membrane to create little pockets that can move molecules around large cells —  and yet, archaea are small. Yet others are typically involved in shuttling molecules between the compartments inside eukaryotic cells —  compartments that typically don’t exist in archaea. When Ettema first found these genes in Loki two years ago, other scientists were skeptical. Perhaps they came from eukaryotes that had contaminated Ettema’s samples. But the presence of such genes in other members of Asgard, collected by different teams from different corners of the world, suggests that they’re real. This doesn’t mean that the Asgardians are eukaryotes themselves, or even anything close. As James McInernery and Mary O’Connell write, “The distribution of genes formerly thought to be   is patchy,” so that no single Asgardian has “a full set. ” Instead, it seems that “the building blocks for those   traits were most likely already present in our archaeal ancestors,” says Ettema. This feeds into a   and still unsettled debate about the origin of eukaryotes. Some scientists believe that the bacterium that would become the mitochondria was swallowed by a host cell that was already big, complex, and most of the way to becoming a eukaryote. Others hold that the host was still a true archaeon, and that it was the merger that allowed it to become more complex. On the face of it, the presence of   genes in Asgard supports the former idea. But Ettema disagrees. Based on their genomes, “they’re not very sophisticated cells, but they have many of the right components in place,” he says. “They were primed to become eukaryotes. ” This debate is likely to rage on for a while, because no one has actually seen the Asgardians themselves. In the 1980s, scientists developed ways of identifying microbes by searching for their DNA amid environmental samples. This is now the main way of finding new species, but it means that many microbes —  like Loki and its kin —  are only known through their DNA. No one knows what they look like. “It’s high on our priority list,” says Ettema. “It’s crucial that we have a look at the cells to see what they’re doing, but that’s extremely hard. Loki was discovered in   ocean sediments, where you don’t go every day. Thor and Heimdall are present in shallower environments, but they’re less than 0. 1 percent of the total microbial community. It’s like looking for a needle in a haystack, but we’re working on it. ”']"
      ]
     },
     "execution_count": 18,
     "metadata": {},
     "output_type": "execute_result"
    }
   ],
   "source": [
    "list(data['content'].loc[data['id'] == 73472])\n"
   ]
  }
 ],
 "metadata": {
  "kernelspec": {
   "display_name": "Python 3",
   "language": "python",
   "name": "python3"
  },
  "language_info": {
   "codemirror_mode": {
    "name": "ipython",
    "version": 3
   },
   "file_extension": ".py",
   "mimetype": "text/x-python",
   "name": "python",
   "nbconvert_exporter": "python",
   "pygments_lexer": "ipython3",
   "version": "3.8.5"
  }
 },
 "nbformat": 4,
 "nbformat_minor": 4
}
